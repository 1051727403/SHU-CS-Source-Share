{
 "cells": [
  {
   "cell_type": "code",
   "execution_count": 5,
   "metadata": {
    "collapsed": true
   },
   "outputs": [
    {
     "name": "stdout",
     "output_type": "stream",
     "text": [
      "0 : 13\n",
      "1 : 10\n",
      "2 : 7\n",
      "3 : 7\n",
      "4 : 10\n",
      "5 : 10\n",
      "6 : 12\n",
      "7 : 9\n",
      "8 : 6\n",
      "9 : 8\n",
      "10 : 9\n",
      "11 : 12\n",
      "12 : 13\n",
      "13 : 13\n",
      "14 : 10\n",
      "15 : 11\n",
      "16 : 6\n",
      "17 : 11\n",
      "18 : 12\n",
      "19 : 9\n",
      "20 : 11\n",
      "21 : 11\n",
      "22 : 13\n",
      "23 : 13\n",
      "24 : 9\n",
      "25 : 11\n",
      "26 : 11\n",
      "27 : 7\n",
      "28 : 9\n",
      "29 : 12\n",
      "30 : 8\n",
      "31 : 8\n",
      "32 : 11\n",
      "33 : 11\n",
      "34 : 8\n",
      "35 : 8\n",
      "36 : 7\n",
      "37 : 11\n",
      "38 : 11\n",
      "39 : 10\n",
      "40 : 9\n",
      "41 : 7\n",
      "42 : 9\n",
      "43 : 9\n",
      "44 : 9\n",
      "45 : 13\n",
      "46 : 8\n",
      "47 : 7\n",
      "48 : 13\n",
      "49 : 12\n",
      "50 : 6\n",
      "51 : 3\n",
      "52 : 7\n",
      "53 : 12\n",
      "54 : 11\n",
      "55 : 9\n",
      "56 : 7\n",
      "57 : 8\n",
      "58 : 10\n",
      "59 : 9\n",
      "60 : 20\n",
      "61 : 8\n",
      "62 : 7\n",
      "63 : 9\n",
      "64 : 12\n",
      "65 : 8\n",
      "66 : 15\n",
      "67 : 17\n",
      "68 : 10\n",
      "69 : 17\n",
      "70 : 19\n",
      "71 : 11\n",
      "72 : 17\n",
      "73 : 10\n",
      "74 : 12\n",
      "75 : 6\n",
      "76 : 8\n",
      "77 : 13\n",
      "78 : 10\n",
      "79 : 4\n",
      "80 : 6\n",
      "81 : 13\n",
      "82 : 8\n",
      "83 : 9\n",
      "84 : 8\n",
      "85 : 10\n",
      "86 : 11\n",
      "87 : 8\n",
      "88 : 12\n",
      "89 : 9\n",
      "90 : 5\n",
      "91 : 10\n",
      "92 : 10\n",
      "93 : 10\n",
      "94 : 9\n",
      "95 : 7\n",
      "96 : 8\n",
      "97 : 17\n",
      "98 : 3\n",
      "99 : 10\n",
      "100 : 8\n"
     ]
    }
   ],
   "source": [
    "import random\n",
    "x = [random.randint(0, 100) for i in range(1000)]\n",
    "s = set(x)\n",
    "for v in s:\n",
    "    print(v, \":\", x.count(v))"
   ]
  },
  {
   "cell_type": "code",
   "execution_count": 6,
   "outputs": [
    {
     "name": "stdout",
     "output_type": "stream",
     "text": [
      "0\n",
      "1\n",
      "2\n",
      "3\n",
      "4\n",
      "5\n",
      "6\n",
      "7\n",
      "8\n",
      "9\n",
      "10\n",
      "11\n",
      "12\n",
      "13\n",
      "14\n",
      "15\n",
      "16\n",
      "17\n",
      "18\n",
      "19\n",
      "20\n",
      "21\n",
      "22\n",
      "23\n",
      "24\n",
      "25\n",
      "26\n",
      "27\n",
      "28\n",
      "29\n",
      "30\n",
      "31\n",
      "32\n",
      "33\n",
      "34\n",
      "35\n",
      "36\n",
      "37\n",
      "38\n",
      "39\n",
      "40\n",
      "41\n",
      "42\n",
      "43\n",
      "44\n",
      "45\n",
      "46\n",
      "47\n",
      "48\n",
      "49\n",
      "50\n",
      "51\n",
      "52\n",
      "53\n",
      "54\n",
      "55\n",
      "56\n",
      "57\n",
      "58\n",
      "59\n",
      "60\n",
      "61\n",
      "62\n",
      "63\n",
      "64\n",
      "65\n",
      "66\n",
      "67\n",
      "68\n",
      "69\n",
      "70\n",
      "71\n",
      "72\n",
      "73\n",
      "74\n",
      "75\n",
      "76\n",
      "77\n",
      "78\n",
      "79\n",
      "80\n",
      "81\n",
      "82\n",
      "83\n",
      "84\n",
      "85\n",
      "86\n",
      "87\n",
      "88\n",
      "89\n",
      "90\n",
      "91\n",
      "92\n",
      "93\n",
      "94\n",
      "95\n",
      "96\n",
      "97\n",
      "98\n",
      "99\n"
     ]
    }
   ],
   "source": [
    "d = {i: random.randint(0, 365) for i in range(100)}\n",
    "for item in d:\n",
    "    print(item)"
   ],
   "metadata": {
    "collapsed": false,
    "pycharm": {
     "name": "#%%\n"
    }
   }
  },
  {
   "cell_type": "code",
   "execution_count": 16,
   "outputs": [],
   "source": [
    "from nltk import sent_tokenize, word_tokenize"
   ],
   "metadata": {
    "collapsed": false,
    "pycharm": {
     "name": "#%%\n"
    }
   }
  },
  {
   "cell_type": "code",
   "execution_count": 3,
   "outputs": [],
   "source": [
    "line = '******The Project Gutenberg Etext of Emma, by Jane Austen******'"
   ],
   "metadata": {
    "collapsed": false,
    "pycharm": {
     "name": "#%%\n"
    }
   }
  },
  {
   "cell_type": "code",
   "execution_count": 45,
   "outputs": [],
   "source": [
    "def process_word(word: str):  # 处理单词\n",
    "    word = word.strip(r'\"#$%&' r\"'()*+-/:;<=>@[\\]^_`{|}~\")  # 去除奇怪的标点符号\n",
    "    return word"
   ],
   "metadata": {
    "collapsed": false,
    "pycharm": {
     "name": "#%%\n"
    }
   }
  },
  {
   "cell_type": "code",
   "execution_count": 47,
   "outputs": [],
   "source": [
    "res = []\n",
    "with open('emma.txt', 'r') as f:\n",
    "    # 文件中每个单词除去换行符之后存入集合\n",
    "    line_list = [line.strip() for line in f]\n",
    "    # text = \" \".join(line.strip() for line in f)\n",
    "    f.seek(0)\n",
    "    text = ' '.join(line.strip() for line in f)  # 源文本\n",
    "    a = sent_tokenize(text)\n",
    "    for sentence in sent_tokenize(text):\n",
    "        process_word_list = [process_word(word=word) for word in sentence.split()]\n",
    "        res.append(process_word_list)\n",
    "        # for word in sentence.split():\n",
    "        #     word = process_word(word)\n",
    "        #     if word != '':\n",
    "        #         res.append(word)"
   ],
   "metadata": {
    "collapsed": false,
    "pycharm": {
     "name": "#%%\n"
    }
   }
  },
  {
   "cell_type": "code",
   "execution_count": 29,
   "outputs": [
    {
     "data": {
      "text/plain": "''"
     },
     "execution_count": 29,
     "metadata": {},
     "output_type": "execute_result"
    }
   ],
   "source": [
    "process_word(\"|\")"
   ],
   "metadata": {
    "collapsed": false,
    "pycharm": {
     "name": "#%%\n"
    }
   }
  },
  {
   "cell_type": "code",
   "execution_count": 38,
   "outputs": [
    {
     "data": {
      "text/plain": "[1]"
     },
     "execution_count": 38,
     "metadata": {},
     "output_type": "execute_result"
    }
   ],
   "source": [
    "test = [1, 2]\n",
    "test[0:1]"
   ],
   "metadata": {
    "collapsed": false,
    "pycharm": {
     "name": "#%%\n"
    }
   }
  },
  {
   "cell_type": "code",
   "execution_count": 42,
   "outputs": [
    {
     "name": "stdout",
     "output_type": "stream",
     "text": [
      "0\n"
     ]
    }
   ],
   "source": [
    "for i in range(1):\n",
    "    print(i)"
   ],
   "metadata": {
    "collapsed": false,
    "pycharm": {
     "name": "#%%\n"
    }
   }
  },
  {
   "cell_type": "code",
   "execution_count": 5,
   "outputs": [
    {
     "ename": "ModuleNotFoundError",
     "evalue": "No module named 'pyCx'",
     "output_type": "error",
     "traceback": [
      "\u001B[1;31m---------------------------------------------------------------------------\u001B[0m",
      "\u001B[1;31mModuleNotFoundError\u001B[0m                       Traceback (most recent call last)",
      "Input \u001B[1;32mIn [5]\u001B[0m, in \u001B[0;36m<cell line: 1>\u001B[1;34m()\u001B[0m\n\u001B[1;32m----> 1\u001B[0m \u001B[38;5;28;01mimport\u001B[39;00m \u001B[38;5;21;01mpyCx\u001B[39;00m\n",
      "\u001B[1;31mModuleNotFoundError\u001B[0m: No module named 'pyCx'"
     ]
    }
   ],
   "source": [
    "import pyCx"
   ],
   "metadata": {
    "collapsed": false,
    "pycharm": {
     "name": "#%%\n"
    }
   }
  },
  {
   "cell_type": "code",
   "execution_count": null,
   "outputs": [],
   "source": [
    "import abm-DlA"
   ],
   "metadata": {
    "collapsed": false,
    "pycharm": {
     "name": "#%%\n"
    }
   }
  }
 ],
 "metadata": {
  "kernelspec": {
   "display_name": "Python 3",
   "language": "python",
   "name": "python3"
  },
  "language_info": {
   "codemirror_mode": {
    "name": "ipython",
    "version": 2
   },
   "file_extension": ".py",
   "mimetype": "text/x-python",
   "name": "python",
   "nbconvert_exporter": "python",
   "pygments_lexer": "ipython2",
   "version": "2.7.6"
  }
 },
 "nbformat": 4,
 "nbformat_minor": 0
}